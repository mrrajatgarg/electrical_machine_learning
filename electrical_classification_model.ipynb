{
  "nbformat": 4,
  "nbformat_minor": 0,
  "metadata": {
    "colab": {
      "name": "electrical_classification_model.ipynb",
      "version": "0.3.2",
      "provenance": [],
      "include_colab_link": true
    },
    "kernelspec": {
      "name": "python3",
      "display_name": "Python 3"
    },
    "accelerator": "GPU"
  },
  "cells": [
    {
      "cell_type": "markdown",
      "metadata": {
        "id": "view-in-github",
        "colab_type": "text"
      },
      "source": [
        "<a href=\"https://colab.research.google.com/github/mrrajatgarg/electrical_machine_learning/blob/master/electrical_classification_model.ipynb\" target=\"_parent\"><img src=\"https://colab.research.google.com/assets/colab-badge.svg\" alt=\"Open In Colab\"/></a>"
      ]
    },
    {
      "metadata": {
        "id": "dqUCmAHiziC-",
        "colab_type": "code",
        "colab": {}
      },
      "cell_type": "code",
      "source": [
        "#https://drive.google.com/open?id=0ByRlxZxb6TEVaGgzVWRUbVAwb205SjNjSnYzOE5FeVE1Nmtr"
      ],
      "execution_count": 0,
      "outputs": []
    },
    {
      "metadata": {
        "id": "NcOmo8Pezl6W",
        "colab_type": "code",
        "outputId": "ca93d404-cf74-4ff5-ef2c-80cfd4b369bf",
        "colab": {
          "base_uri": "https://localhost:8080/",
          "height": 53
        }
      },
      "cell_type": "code",
      "source": [
        "# Install the PyDrive wrapper & import libraries.\n",
        "# This only needs to be done once in a notebook.\n",
        "!pip install -U -q PyDrive\n",
        "from pydrive.auth import GoogleAuth\n",
        "from pydrive.drive import GoogleDrive\n",
        "from google.colab import auth\n",
        "from oauth2client.client import GoogleCredentials"
      ],
      "execution_count": 0,
      "outputs": [
        {
          "output_type": "stream",
          "text": [
            "\u001b[?25l\r\u001b[K    1% |▎                               | 10kB 11.3MB/s eta 0:00:01\r\u001b[K    2% |▋                               | 20kB 1.9MB/s eta 0:00:01\r\u001b[K    3% |█                               | 30kB 2.8MB/s eta 0:00:01\r\u001b[K    4% |█▎                              | 40kB 1.8MB/s eta 0:00:01\r\u001b[K    5% |█▋                              | 51kB 2.2MB/s eta 0:00:01\r\u001b[K    6% |██                              | 61kB 2.6MB/s eta 0:00:01\r\u001b[K    7% |██▎                             | 71kB 2.9MB/s eta 0:00:01\r\u001b[K    8% |██▋                             | 81kB 3.2MB/s eta 0:00:01\r\u001b[K    9% |███                             | 92kB 3.6MB/s eta 0:00:01\r\u001b[K    10% |███▎                            | 102kB 2.9MB/s eta 0:00:01\r\u001b[K    11% |███▋                            | 112kB 2.9MB/s eta 0:00:01\r\u001b[K    12% |████                            | 122kB 4.0MB/s eta 0:00:01\r\u001b[K    13% |████▎                           | 133kB 4.0MB/s eta 0:00:01\r\u001b[K    14% |████▋                           | 143kB 7.4MB/s eta 0:00:01\r\u001b[K    15% |█████                           | 153kB 7.3MB/s eta 0:00:01\r\u001b[K    16% |█████▎                          | 163kB 7.3MB/s eta 0:00:01\r\u001b[K    17% |█████▋                          | 174kB 7.7MB/s eta 0:00:01\r\u001b[K    18% |██████                          | 184kB 7.8MB/s eta 0:00:01\r\u001b[K    19% |██████▎                         | 194kB 7.8MB/s eta 0:00:01\r\u001b[K    20% |██████▋                         | 204kB 27.0MB/s eta 0:00:01\r\u001b[K    21% |███████                         | 215kB 8.5MB/s eta 0:00:01\r\u001b[K    22% |███████▎                        | 225kB 8.5MB/s eta 0:00:01\r\u001b[K    23% |███████▋                        | 235kB 8.6MB/s eta 0:00:01\r\u001b[K    24% |████████                        | 245kB 8.6MB/s eta 0:00:01\r\u001b[K    25% |████████▎                       | 256kB 8.7MB/s eta 0:00:01\r\u001b[K    26% |████████▋                       | 266kB 8.4MB/s eta 0:00:01\r\u001b[K    27% |█████████                       | 276kB 8.5MB/s eta 0:00:01\r\u001b[K    29% |█████████▎                      | 286kB 8.5MB/s eta 0:00:01\r\u001b[K    30% |█████████▋                      | 296kB 8.4MB/s eta 0:00:01\r\u001b[K    31% |██████████                      | 307kB 8.7MB/s eta 0:00:01\r\u001b[K    32% |██████████▎                     | 317kB 30.5MB/s eta 0:00:01\r\u001b[K    33% |██████████▋                     | 327kB 8.3MB/s eta 0:00:01\r\u001b[K    34% |███████████                     | 337kB 8.4MB/s eta 0:00:01\r\u001b[K    35% |███████████▎                    | 348kB 8.0MB/s eta 0:00:01\r\u001b[K    36% |███████████▋                    | 358kB 8.0MB/s eta 0:00:01\r\u001b[K    37% |████████████                    | 368kB 8.2MB/s eta 0:00:01\r\u001b[K    38% |████████████▎                   | 378kB 8.2MB/s eta 0:00:01\r\u001b[K    39% |████████████▋                   | 389kB 8.2MB/s eta 0:00:01\r\u001b[K    40% |█████████████                   | 399kB 8.1MB/s eta 0:00:01\r\u001b[K    41% |█████████████▎                  | 409kB 8.1MB/s eta 0:00:01\r\u001b[K    42% |█████████████▋                  | 419kB 8.1MB/s eta 0:00:01\r\u001b[K    43% |██████████████                  | 430kB 27.6MB/s eta 0:00:01\r\u001b[K    44% |██████████████▎                 | 440kB 27.7MB/s eta 0:00:01\r\u001b[K    45% |██████████████▋                 | 450kB 30.5MB/s eta 0:00:01\r\u001b[K    46% |███████████████                 | 460kB 30.2MB/s eta 0:00:01\r\u001b[K    47% |███████████████▎                | 471kB 32.5MB/s eta 0:00:01\r\u001b[K    48% |███████████████▋                | 481kB 32.5MB/s eta 0:00:01\r\u001b[K    49% |████████████████                | 491kB 32.4MB/s eta 0:00:01\r\u001b[K    50% |████████████████▎               | 501kB 33.3MB/s eta 0:00:01\r\u001b[K    51% |████████████████▋               | 512kB 31.6MB/s eta 0:00:01\r\u001b[K    52% |█████████████████               | 522kB 30.7MB/s eta 0:00:01\r\u001b[K    53% |█████████████████▎              | 532kB 30.8MB/s eta 0:00:01\r\u001b[K    54% |█████████████████▋              | 542kB 30.6MB/s eta 0:00:01\r\u001b[K    55% |██████████████████              | 552kB 32.1MB/s eta 0:00:01\r\u001b[K    57% |██████████████████▎             | 563kB 32.7MB/s eta 0:00:01\r\u001b[K    58% |██████████████████▋             | 573kB 32.3MB/s eta 0:00:01\r\u001b[K    59% |███████████████████             | 583kB 32.2MB/s eta 0:00:01\r\u001b[K    60% |███████████████████▎            | 593kB 31.8MB/s eta 0:00:01\r\u001b[K    61% |███████████████████▋            | 604kB 31.4MB/s eta 0:00:01\r\u001b[K    62% |████████████████████            | 614kB 33.3MB/s eta 0:00:01\r\u001b[K    63% |████████████████████▎           | 624kB 33.7MB/s eta 0:00:01\r\u001b[K    64% |████████████████████▋           | 634kB 34.0MB/s eta 0:00:01\r\u001b[K    65% |█████████████████████           | 645kB 33.8MB/s eta 0:00:01\r\u001b[K    66% |█████████████████████▎          | 655kB 33.3MB/s eta 0:00:01\r\u001b[K    67% |█████████████████████▋          | 665kB 27.5MB/s eta 0:00:01\r\u001b[K    68% |██████████████████████          | 675kB 27.4MB/s eta 0:00:01\r\u001b[K    69% |██████████████████████▎         | 686kB 27.2MB/s eta 0:00:01\r\u001b[K    70% |██████████████████████▋         | 696kB 27.5MB/s eta 0:00:01\r\u001b[K    71% |███████████████████████         | 706kB 27.4MB/s eta 0:00:01\r\u001b[K    72% |███████████████████████▎        | 716kB 27.2MB/s eta 0:00:01\r\u001b[K    73% |███████████████████████▋        | 727kB 26.7MB/s eta 0:00:01\r\u001b[K    74% |████████████████████████        | 737kB 26.8MB/s eta 0:00:01\r\u001b[K    75% |████████████████████████▎       | 747kB 27.0MB/s eta 0:00:01\r\u001b[K    76% |████████████████████████▋       | 757kB 19.4MB/s eta 0:00:01\r\u001b[K    77% |████████████████████████▉       | 768kB 22.2MB/s eta 0:00:01\r\u001b[K    78% |█████████████████████████▏      | 778kB 22.3MB/s eta 0:00:01\r\u001b[K    79% |█████████████████████████▌      | 788kB 22.4MB/s eta 0:00:01\r\u001b[K    80% |█████████████████████████▉      | 798kB 22.8MB/s eta 0:00:01\r\u001b[K    81% |██████████████████████████▏     | 808kB 23.1MB/s eta 0:00:01\r\u001b[K    82% |██████████████████████████▌     | 819kB 23.2MB/s eta 0:00:01\r\u001b[K    83% |██████████████████████████▉     | 829kB 23.6MB/s eta 0:00:01\r\u001b[K    85% |███████████████████████████▏    | 839kB 20.1MB/s eta 0:00:01\r\u001b[K    86% |███████████████████████████▌    | 849kB 20.0MB/s eta 0:00:01\r\u001b[K    87% |███████████████████████████▉    | 860kB 27.0MB/s eta 0:00:01\r\u001b[K    88% |████████████████████████████▏   | 870kB 27.0MB/s eta 0:00:01\r\u001b[K    89% |████████████████████████████▌   | 880kB 27.5MB/s eta 0:00:01\r\u001b[K    90% |████████████████████████████▉   | 890kB 27.7MB/s eta 0:00:01\r\u001b[K    91% |█████████████████████████████▏  | 901kB 27.4MB/s eta 0:00:01\r\u001b[K    92% |█████████████████████████████▌  | 911kB 27.3MB/s eta 0:00:01\r\u001b[K    93% |█████████████████████████████▉  | 921kB 27.8MB/s eta 0:00:01\r\u001b[K    94% |██████████████████████████████▏ | 931kB 25.3MB/s eta 0:00:01\r\u001b[K    95% |██████████████████████████████▌ | 942kB 31.3MB/s eta 0:00:01\r\u001b[K    96% |██████████████████████████████▉ | 952kB 18.8MB/s eta 0:00:01\r\u001b[K    97% |███████████████████████████████▏| 962kB 19.6MB/s eta 0:00:01\r\u001b[K    98% |███████████████████████████████▌| 972kB 19.6MB/s eta 0:00:01\r\u001b[K    99% |███████████████████████████████▉| 983kB 18.6MB/s eta 0:00:01\r\u001b[K    100% |████████████████████████████████| 993kB 10.0MB/s \n",
            "\u001b[?25h  Building wheel for PyDrive (setup.py) ... \u001b[?25ldone\n",
            "\u001b[?25h"
          ],
          "name": "stdout"
        }
      ]
    },
    {
      "metadata": {
        "id": "nY9Hdynq0Ds4",
        "colab_type": "code",
        "colab": {}
      },
      "cell_type": "code",
      "source": [
        "# Authenticate and create the PyDrive client.\n",
        "# This only needs to be done once in a notebook.\n",
        "auth.authenticate_user()\n",
        "gauth = GoogleAuth()\n",
        "gauth.credentials = GoogleCredentials.get_application_default()\n",
        "drive = GoogleDrive(gauth)"
      ],
      "execution_count": 0,
      "outputs": []
    },
    {
      "metadata": {
        "id": "p2yYakqK0IZY",
        "colab_type": "code",
        "outputId": "da04960d-31ce-497b-96ac-cab6633e4623",
        "colab": {
          "base_uri": "https://localhost:8080/",
          "height": 35
        }
      },
      "cell_type": "code",
      "source": [
        "\n",
        "link = 'https://drive.google.com/open?id=0ByRlxZxb6TEVaGgzVWRUbVAwb205SjNjSnYzOE5FeVE1Nmtr'\n",
        "\n",
        "fluff, id = link.split('=')\n",
        "\n",
        "print (id) # Verify that you have everything after '='\n",
        "\n",
        "downloaded = drive.CreateFile({'id':id}) \n",
        "downloaded.GetContentFile('WPTFeatures254_FaultStates_classnumer.xlsx')"
      ],
      "execution_count": 0,
      "outputs": [
        {
          "output_type": "stream",
          "text": [
            "0ByRlxZxb6TEVaGgzVWRUbVAwb205SjNjSnYzOE5FeVE1Nmtr\n"
          ],
          "name": "stdout"
        }
      ]
    },
    {
      "metadata": {
        "id": "MvzwJMGb0ZiZ",
        "colab_type": "code",
        "colab": {}
      },
      "cell_type": "code",
      "source": [
        "import pandas as pd"
      ],
      "execution_count": 0,
      "outputs": []
    },
    {
      "metadata": {
        "id": "lYwj5JT90t-c",
        "colab_type": "code",
        "colab": {}
      },
      "cell_type": "code",
      "source": [
        "whole_dataset = pd.read_excel('WPTFeatures254_FaultStates_classnumer.xlsx')"
      ],
      "execution_count": 0,
      "outputs": []
    },
    {
      "metadata": {
        "id": "wxtS8Exe00X0",
        "colab_type": "code",
        "outputId": "2b4f52a9-337d-4bc8-85cd-2567ea236783",
        "colab": {
          "base_uri": "https://localhost:8080/",
          "height": 253
        }
      },
      "cell_type": "code",
      "source": [
        "whole_dataset.head()"
      ],
      "execution_count": 0,
      "outputs": [
        {
          "output_type": "execute_result",
          "data": {
            "text/html": [
              "<div>\n",
              "<style scoped>\n",
              "    .dataframe tbody tr th:only-of-type {\n",
              "        vertical-align: middle;\n",
              "    }\n",
              "\n",
              "    .dataframe tbody tr th {\n",
              "        vertical-align: top;\n",
              "    }\n",
              "\n",
              "    .dataframe thead th {\n",
              "        text-align: right;\n",
              "    }\n",
              "</style>\n",
              "<table border=\"1\" class=\"dataframe\">\n",
              "  <thead>\n",
              "    <tr style=\"text-align: right;\">\n",
              "      <th></th>\n",
              "      <th>F1</th>\n",
              "      <th>F2</th>\n",
              "      <th>F3</th>\n",
              "      <th>F4</th>\n",
              "      <th>F5</th>\n",
              "      <th>F6</th>\n",
              "      <th>F7</th>\n",
              "      <th>F8</th>\n",
              "      <th>F9</th>\n",
              "      <th>F10</th>\n",
              "      <th>...</th>\n",
              "      <th>F246</th>\n",
              "      <th>F247</th>\n",
              "      <th>F248</th>\n",
              "      <th>F249</th>\n",
              "      <th>F250</th>\n",
              "      <th>F251</th>\n",
              "      <th>F252</th>\n",
              "      <th>F253</th>\n",
              "      <th>F254</th>\n",
              "      <th>class</th>\n",
              "    </tr>\n",
              "  </thead>\n",
              "  <tbody>\n",
              "    <tr>\n",
              "      <th>0</th>\n",
              "      <td>1861.7</td>\n",
              "      <td>0.54780</td>\n",
              "      <td>1825.1</td>\n",
              "      <td>36.810</td>\n",
              "      <td>0.36316</td>\n",
              "      <td>0.18484</td>\n",
              "      <td>1628.0</td>\n",
              "      <td>197.40</td>\n",
              "      <td>1.1270</td>\n",
              "      <td>35.704</td>\n",
              "      <td>...</td>\n",
              "      <td>0.019253</td>\n",
              "      <td>0.001279</td>\n",
              "      <td>0.000637</td>\n",
              "      <td>0.001001</td>\n",
              "      <td>0.000630</td>\n",
              "      <td>0.004361</td>\n",
              "      <td>0.004167</td>\n",
              "      <td>0.001329</td>\n",
              "      <td>0.002935</td>\n",
              "      <td>1</td>\n",
              "    </tr>\n",
              "    <tr>\n",
              "      <th>1</th>\n",
              "      <td>2176.0</td>\n",
              "      <td>0.46782</td>\n",
              "      <td>2145.9</td>\n",
              "      <td>30.157</td>\n",
              "      <td>0.29926</td>\n",
              "      <td>0.16862</td>\n",
              "      <td>1957.6</td>\n",
              "      <td>188.37</td>\n",
              "      <td>1.1587</td>\n",
              "      <td>29.002</td>\n",
              "      <td>...</td>\n",
              "      <td>0.011436</td>\n",
              "      <td>0.000862</td>\n",
              "      <td>0.000607</td>\n",
              "      <td>0.000830</td>\n",
              "      <td>0.000722</td>\n",
              "      <td>0.006171</td>\n",
              "      <td>0.004248</td>\n",
              "      <td>0.001130</td>\n",
              "      <td>0.002683</td>\n",
              "      <td>1</td>\n",
              "    </tr>\n",
              "    <tr>\n",
              "      <th>2</th>\n",
              "      <td>2660.6</td>\n",
              "      <td>0.59622</td>\n",
              "      <td>2624.1</td>\n",
              "      <td>36.672</td>\n",
              "      <td>0.37282</td>\n",
              "      <td>0.22341</td>\n",
              "      <td>2403.5</td>\n",
              "      <td>220.93</td>\n",
              "      <td>1.4142</td>\n",
              "      <td>35.260</td>\n",
              "      <td>...</td>\n",
              "      <td>0.011709</td>\n",
              "      <td>0.001056</td>\n",
              "      <td>0.000894</td>\n",
              "      <td>0.001159</td>\n",
              "      <td>0.000915</td>\n",
              "      <td>0.005991</td>\n",
              "      <td>0.006243</td>\n",
              "      <td>0.001617</td>\n",
              "      <td>0.002562</td>\n",
              "      <td>1</td>\n",
              "    </tr>\n",
              "    <tr>\n",
              "      <th>3</th>\n",
              "      <td>3037.9</td>\n",
              "      <td>0.58387</td>\n",
              "      <td>3001.8</td>\n",
              "      <td>36.357</td>\n",
              "      <td>0.36652</td>\n",
              "      <td>0.21736</td>\n",
              "      <td>2781.3</td>\n",
              "      <td>220.97</td>\n",
              "      <td>1.3562</td>\n",
              "      <td>35.002</td>\n",
              "      <td>...</td>\n",
              "      <td>0.011237</td>\n",
              "      <td>0.001237</td>\n",
              "      <td>0.001174</td>\n",
              "      <td>0.001061</td>\n",
              "      <td>0.000815</td>\n",
              "      <td>0.005821</td>\n",
              "      <td>0.005994</td>\n",
              "      <td>0.001551</td>\n",
              "      <td>0.003362</td>\n",
              "      <td>1</td>\n",
              "    </tr>\n",
              "    <tr>\n",
              "      <th>4</th>\n",
              "      <td>2221.1</td>\n",
              "      <td>0.39650</td>\n",
              "      <td>2196.9</td>\n",
              "      <td>24.278</td>\n",
              "      <td>0.24262</td>\n",
              "      <td>0.15393</td>\n",
              "      <td>2045.5</td>\n",
              "      <td>151.58</td>\n",
              "      <td>1.0589</td>\n",
              "      <td>23.222</td>\n",
              "      <td>...</td>\n",
              "      <td>0.009779</td>\n",
              "      <td>0.001043</td>\n",
              "      <td>0.000823</td>\n",
              "      <td>0.000839</td>\n",
              "      <td>0.000727</td>\n",
              "      <td>0.003275</td>\n",
              "      <td>0.003836</td>\n",
              "      <td>0.001229</td>\n",
              "      <td>0.002445</td>\n",
              "      <td>1</td>\n",
              "    </tr>\n",
              "  </tbody>\n",
              "</table>\n",
              "<p>5 rows × 255 columns</p>\n",
              "</div>"
            ],
            "text/plain": [
              "       F1       F2      F3      F4       F5       F6      F7      F8      F9  \\\n",
              "0  1861.7  0.54780  1825.1  36.810  0.36316  0.18484  1628.0  197.40  1.1270   \n",
              "1  2176.0  0.46782  2145.9  30.157  0.29926  0.16862  1957.6  188.37  1.1587   \n",
              "2  2660.6  0.59622  2624.1  36.672  0.37282  0.22341  2403.5  220.93  1.4142   \n",
              "3  3037.9  0.58387  3001.8  36.357  0.36652  0.21736  2781.3  220.97  1.3562   \n",
              "4  2221.1  0.39650  2196.9  24.278  0.24262  0.15393  2045.5  151.58  1.0589   \n",
              "\n",
              "      F10  ...        F246      F247      F248      F249      F250      F251  \\\n",
              "0  35.704  ...    0.019253  0.001279  0.000637  0.001001  0.000630  0.004361   \n",
              "1  29.002  ...    0.011436  0.000862  0.000607  0.000830  0.000722  0.006171   \n",
              "2  35.260  ...    0.011709  0.001056  0.000894  0.001159  0.000915  0.005991   \n",
              "3  35.002  ...    0.011237  0.001237  0.001174  0.001061  0.000815  0.005821   \n",
              "4  23.222  ...    0.009779  0.001043  0.000823  0.000839  0.000727  0.003275   \n",
              "\n",
              "       F252      F253      F254  class  \n",
              "0  0.004167  0.001329  0.002935      1  \n",
              "1  0.004248  0.001130  0.002683      1  \n",
              "2  0.006243  0.001617  0.002562      1  \n",
              "3  0.005994  0.001551  0.003362      1  \n",
              "4  0.003836  0.001229  0.002445      1  \n",
              "\n",
              "[5 rows x 255 columns]"
            ]
          },
          "metadata": {
            "tags": []
          },
          "execution_count": 14
        }
      ]
    },
    {
      "metadata": {
        "id": "3CAxZ4HB3oJs",
        "colab_type": "text"
      },
      "cell_type": "markdown",
      "source": [
        "# Importing Libraries"
      ]
    },
    {
      "metadata": {
        "id": "NoNvEKIp3scB",
        "colab_type": "code",
        "colab": {}
      },
      "cell_type": "code",
      "source": [
        "import numpy as np\n",
        "import pandas as pd"
      ],
      "execution_count": 0,
      "outputs": []
    },
    {
      "metadata": {
        "id": "ZtE4q0-x3u67",
        "colab_type": "code",
        "outputId": "df71fe38-965f-493c-81f6-0395793cbf25",
        "colab": {
          "base_uri": "https://localhost:8080/",
          "height": 35
        }
      },
      "cell_type": "code",
      "source": [
        "from keras.utils.np_utils import to_categorical\n",
        "\n",
        "from keras.models import Sequential\n",
        "\n",
        "from sklearn.utils import shuffle"
      ],
      "execution_count": 0,
      "outputs": [
        {
          "output_type": "stream",
          "text": [
            "Using TensorFlow backend.\n"
          ],
          "name": "stderr"
        }
      ]
    },
    {
      "metadata": {
        "id": "hAcEdfrx3u-Q",
        "colab_type": "code",
        "colab": {}
      },
      "cell_type": "code",
      "source": [
        "from sklearn.model_selection import train_test_split"
      ],
      "execution_count": 0,
      "outputs": []
    },
    {
      "metadata": {
        "id": "qhkde1NW3vDF",
        "colab_type": "code",
        "colab": {}
      },
      "cell_type": "code",
      "source": [
        "from keras.models import Sequential\n",
        "\n",
        "from keras.layers import Dense\n",
        "\n",
        "from keras.layers import BatchNormalization"
      ],
      "execution_count": 0,
      "outputs": []
    },
    {
      "metadata": {
        "id": "qXNLvD8n2T-v",
        "colab_type": "text"
      },
      "cell_type": "markdown",
      "source": [
        "# Creating dataset into dataset and labels"
      ]
    },
    {
      "metadata": {
        "id": "r2iF-v1m1kZP",
        "colab_type": "code",
        "colab": {}
      },
      "cell_type": "code",
      "source": [
        "labels = whole_dataset['class']"
      ],
      "execution_count": 0,
      "outputs": []
    },
    {
      "metadata": {
        "id": "NAxVMNFN2nH0",
        "colab_type": "code",
        "outputId": "b7de91a3-ebfd-4a04-c23f-f0b3a72a81be",
        "colab": {
          "base_uri": "https://localhost:8080/",
          "height": 125
        }
      },
      "cell_type": "code",
      "source": [
        "labels.head()"
      ],
      "execution_count": 0,
      "outputs": [
        {
          "output_type": "execute_result",
          "data": {
            "text/plain": [
              "0    1\n",
              "1    1\n",
              "2    1\n",
              "3    1\n",
              "4    1\n",
              "Name: class, dtype: int64"
            ]
          },
          "metadata": {
            "tags": []
          },
          "execution_count": 16
        }
      ]
    },
    {
      "metadata": {
        "id": "4rqpjwh62qgV",
        "colab_type": "code",
        "colab": {}
      },
      "cell_type": "code",
      "source": [
        "raw_data = whole_dataset.drop(['class'], axis=1)"
      ],
      "execution_count": 0,
      "outputs": []
    },
    {
      "metadata": {
        "id": "xiz1bMCP22K8",
        "colab_type": "code",
        "outputId": "66dc88ce-2689-4b55-afd8-4c764ab4442a",
        "colab": {
          "base_uri": "https://localhost:8080/",
          "height": 253
        }
      },
      "cell_type": "code",
      "source": [
        "raw_data.head()"
      ],
      "execution_count": 0,
      "outputs": [
        {
          "output_type": "execute_result",
          "data": {
            "text/html": [
              "<div>\n",
              "<style scoped>\n",
              "    .dataframe tbody tr th:only-of-type {\n",
              "        vertical-align: middle;\n",
              "    }\n",
              "\n",
              "    .dataframe tbody tr th {\n",
              "        vertical-align: top;\n",
              "    }\n",
              "\n",
              "    .dataframe thead th {\n",
              "        text-align: right;\n",
              "    }\n",
              "</style>\n",
              "<table border=\"1\" class=\"dataframe\">\n",
              "  <thead>\n",
              "    <tr style=\"text-align: right;\">\n",
              "      <th></th>\n",
              "      <th>F1</th>\n",
              "      <th>F2</th>\n",
              "      <th>F3</th>\n",
              "      <th>F4</th>\n",
              "      <th>F5</th>\n",
              "      <th>F6</th>\n",
              "      <th>F7</th>\n",
              "      <th>F8</th>\n",
              "      <th>F9</th>\n",
              "      <th>F10</th>\n",
              "      <th>...</th>\n",
              "      <th>F245</th>\n",
              "      <th>F246</th>\n",
              "      <th>F247</th>\n",
              "      <th>F248</th>\n",
              "      <th>F249</th>\n",
              "      <th>F250</th>\n",
              "      <th>F251</th>\n",
              "      <th>F252</th>\n",
              "      <th>F253</th>\n",
              "      <th>F254</th>\n",
              "    </tr>\n",
              "  </thead>\n",
              "  <tbody>\n",
              "    <tr>\n",
              "      <th>0</th>\n",
              "      <td>1861.7</td>\n",
              "      <td>0.54780</td>\n",
              "      <td>1825.1</td>\n",
              "      <td>36.810</td>\n",
              "      <td>0.36316</td>\n",
              "      <td>0.18484</td>\n",
              "      <td>1628.0</td>\n",
              "      <td>197.40</td>\n",
              "      <td>1.1270</td>\n",
              "      <td>35.704</td>\n",
              "      <td>...</td>\n",
              "      <td>0.022249</td>\n",
              "      <td>0.019253</td>\n",
              "      <td>0.001279</td>\n",
              "      <td>0.000637</td>\n",
              "      <td>0.001001</td>\n",
              "      <td>0.000630</td>\n",
              "      <td>0.004361</td>\n",
              "      <td>0.004167</td>\n",
              "      <td>0.001329</td>\n",
              "      <td>0.002935</td>\n",
              "    </tr>\n",
              "    <tr>\n",
              "      <th>1</th>\n",
              "      <td>2176.0</td>\n",
              "      <td>0.46782</td>\n",
              "      <td>2145.9</td>\n",
              "      <td>30.157</td>\n",
              "      <td>0.29926</td>\n",
              "      <td>0.16862</td>\n",
              "      <td>1957.6</td>\n",
              "      <td>188.37</td>\n",
              "      <td>1.1587</td>\n",
              "      <td>29.002</td>\n",
              "      <td>...</td>\n",
              "      <td>0.014066</td>\n",
              "      <td>0.011436</td>\n",
              "      <td>0.000862</td>\n",
              "      <td>0.000607</td>\n",
              "      <td>0.000830</td>\n",
              "      <td>0.000722</td>\n",
              "      <td>0.006171</td>\n",
              "      <td>0.004248</td>\n",
              "      <td>0.001130</td>\n",
              "      <td>0.002683</td>\n",
              "    </tr>\n",
              "    <tr>\n",
              "      <th>2</th>\n",
              "      <td>2660.6</td>\n",
              "      <td>0.59622</td>\n",
              "      <td>2624.1</td>\n",
              "      <td>36.672</td>\n",
              "      <td>0.37282</td>\n",
              "      <td>0.22341</td>\n",
              "      <td>2403.5</td>\n",
              "      <td>220.93</td>\n",
              "      <td>1.4142</td>\n",
              "      <td>35.260</td>\n",
              "      <td>...</td>\n",
              "      <td>0.018537</td>\n",
              "      <td>0.011709</td>\n",
              "      <td>0.001056</td>\n",
              "      <td>0.000894</td>\n",
              "      <td>0.001159</td>\n",
              "      <td>0.000915</td>\n",
              "      <td>0.005991</td>\n",
              "      <td>0.006243</td>\n",
              "      <td>0.001617</td>\n",
              "      <td>0.002562</td>\n",
              "    </tr>\n",
              "    <tr>\n",
              "      <th>3</th>\n",
              "      <td>3037.9</td>\n",
              "      <td>0.58387</td>\n",
              "      <td>3001.8</td>\n",
              "      <td>36.357</td>\n",
              "      <td>0.36652</td>\n",
              "      <td>0.21736</td>\n",
              "      <td>2781.3</td>\n",
              "      <td>220.97</td>\n",
              "      <td>1.3562</td>\n",
              "      <td>35.002</td>\n",
              "      <td>...</td>\n",
              "      <td>0.017570</td>\n",
              "      <td>0.011237</td>\n",
              "      <td>0.001237</td>\n",
              "      <td>0.001174</td>\n",
              "      <td>0.001061</td>\n",
              "      <td>0.000815</td>\n",
              "      <td>0.005821</td>\n",
              "      <td>0.005994</td>\n",
              "      <td>0.001551</td>\n",
              "      <td>0.003362</td>\n",
              "    </tr>\n",
              "    <tr>\n",
              "      <th>4</th>\n",
              "      <td>2221.1</td>\n",
              "      <td>0.39650</td>\n",
              "      <td>2196.9</td>\n",
              "      <td>24.278</td>\n",
              "      <td>0.24262</td>\n",
              "      <td>0.15393</td>\n",
              "      <td>2045.5</td>\n",
              "      <td>151.58</td>\n",
              "      <td>1.0589</td>\n",
              "      <td>23.222</td>\n",
              "      <td>...</td>\n",
              "      <td>0.012535</td>\n",
              "      <td>0.009779</td>\n",
              "      <td>0.001043</td>\n",
              "      <td>0.000823</td>\n",
              "      <td>0.000839</td>\n",
              "      <td>0.000727</td>\n",
              "      <td>0.003275</td>\n",
              "      <td>0.003836</td>\n",
              "      <td>0.001229</td>\n",
              "      <td>0.002445</td>\n",
              "    </tr>\n",
              "  </tbody>\n",
              "</table>\n",
              "<p>5 rows × 254 columns</p>\n",
              "</div>"
            ],
            "text/plain": [
              "       F1       F2      F3      F4       F5       F6      F7      F8      F9  \\\n",
              "0  1861.7  0.54780  1825.1  36.810  0.36316  0.18484  1628.0  197.40  1.1270   \n",
              "1  2176.0  0.46782  2145.9  30.157  0.29926  0.16862  1957.6  188.37  1.1587   \n",
              "2  2660.6  0.59622  2624.1  36.672  0.37282  0.22341  2403.5  220.93  1.4142   \n",
              "3  3037.9  0.58387  3001.8  36.357  0.36652  0.21736  2781.3  220.97  1.3562   \n",
              "4  2221.1  0.39650  2196.9  24.278  0.24262  0.15393  2045.5  151.58  1.0589   \n",
              "\n",
              "      F10    ...         F245      F246      F247      F248      F249  \\\n",
              "0  35.704    ...     0.022249  0.019253  0.001279  0.000637  0.001001   \n",
              "1  29.002    ...     0.014066  0.011436  0.000862  0.000607  0.000830   \n",
              "2  35.260    ...     0.018537  0.011709  0.001056  0.000894  0.001159   \n",
              "3  35.002    ...     0.017570  0.011237  0.001237  0.001174  0.001061   \n",
              "4  23.222    ...     0.012535  0.009779  0.001043  0.000823  0.000839   \n",
              "\n",
              "       F250      F251      F252      F253      F254  \n",
              "0  0.000630  0.004361  0.004167  0.001329  0.002935  \n",
              "1  0.000722  0.006171  0.004248  0.001130  0.002683  \n",
              "2  0.000915  0.005991  0.006243  0.001617  0.002562  \n",
              "3  0.000815  0.005821  0.005994  0.001551  0.003362  \n",
              "4  0.000727  0.003275  0.003836  0.001229  0.002445  \n",
              "\n",
              "[5 rows x 254 columns]"
            ]
          },
          "metadata": {
            "tags": []
          },
          "execution_count": 18
        }
      ]
    },
    {
      "metadata": {
        "id": "4yihY5an27NE",
        "colab_type": "text"
      },
      "cell_type": "markdown",
      "source": [
        "# Converting into numpy array and convering labels to one-hot representation"
      ]
    },
    {
      "metadata": {
        "id": "OVAU2DhP23kM",
        "colab_type": "code",
        "colab": {}
      },
      "cell_type": "code",
      "source": [
        "raw_data_numpy = raw_data.values\n",
        "\n",
        "labels_numpy = labels.values"
      ],
      "execution_count": 0,
      "outputs": []
    },
    {
      "metadata": {
        "id": "SOEZ-dya3CZy",
        "colab_type": "code",
        "outputId": "eac0e1e5-d0fa-4c44-fc2e-6d71768e1bed",
        "colab": {
          "base_uri": "https://localhost:8080/",
          "height": 53
        }
      },
      "cell_type": "code",
      "source": [
        "print(raw_data_numpy.shape)\n",
        "\n",
        "print(labels_numpy.shape)"
      ],
      "execution_count": 0,
      "outputs": [
        {
          "output_type": "stream",
          "text": [
            "(1800, 254)\n",
            "(1800,)\n"
          ],
          "name": "stdout"
        }
      ]
    },
    {
      "metadata": {
        "id": "6Ex0w1OO46PC",
        "colab_type": "code",
        "colab": {
          "base_uri": "https://localhost:8080/",
          "height": 35
        },
        "outputId": "1f3a88e8-3b18-4c57-98e2-d072652dfe93"
      },
      "cell_type": "code",
      "source": [
        "labels_numpy_new = labels_numpy - 1\n",
        "print(labels_numpy_new[0:5])"
      ],
      "execution_count": 29,
      "outputs": [
        {
          "output_type": "stream",
          "text": [
            "[0 0 0 0 0]\n"
          ],
          "name": "stdout"
        }
      ]
    },
    {
      "metadata": {
        "id": "LUkwWYeR3Ky1",
        "colab_type": "code",
        "colab": {}
      },
      "cell_type": "code",
      "source": [
        "labels_one_hot = to_categorical(labels_numpy_new)"
      ],
      "execution_count": 0,
      "outputs": []
    },
    {
      "metadata": {
        "id": "K8NiIJNF3H_N",
        "colab_type": "code",
        "outputId": "7f74b43b-6d1c-4345-bc92-ffc70380f18c",
        "colab": {
          "base_uri": "https://localhost:8080/",
          "height": 125
        }
      },
      "cell_type": "code",
      "source": [
        "print(labels_one_hot[0:5])\n",
        "print(labels_one_hot.shape)"
      ],
      "execution_count": 31,
      "outputs": [
        {
          "output_type": "stream",
          "text": [
            "[[1. 0. 0. 0. 0. 0. 0. 0.]\n",
            " [1. 0. 0. 0. 0. 0. 0. 0.]\n",
            " [1. 0. 0. 0. 0. 0. 0. 0.]\n",
            " [1. 0. 0. 0. 0. 0. 0. 0.]\n",
            " [1. 0. 0. 0. 0. 0. 0. 0.]]\n",
            "(1800, 8)\n"
          ],
          "name": "stdout"
        }
      ]
    },
    {
      "metadata": {
        "id": "WEM8X3JY4CFF",
        "colab_type": "code",
        "colab": {}
      },
      "cell_type": "code",
      "source": [
        "final_dataset, final_labels = shuffle(raw_data_numpy, labels_one_hot)"
      ],
      "execution_count": 0,
      "outputs": []
    },
    {
      "metadata": {
        "id": "SNzNkeBG5lxb",
        "colab_type": "code",
        "colab": {
          "base_uri": "https://localhost:8080/",
          "height": 233
        },
        "outputId": "294f44c2-151c-489d-8dc0-318ffd057794"
      },
      "cell_type": "code",
      "source": [
        "print(final_dataset.shape)\n",
        "print(final_labels.shape)\n",
        "print(final_dataset[0:5])\n",
        "print(final_labels[0:5])"
      ],
      "execution_count": 33,
      "outputs": [
        {
          "output_type": "stream",
          "text": [
            "(1800, 254)\n",
            "(1800, 8)\n",
            "[[2.9764e+03 3.0611e-01 2.9568e+03 ... 3.8865e-03 3.5460e-03 2.8321e-03]\n",
            " [3.2036e+03 8.2730e-01 3.1555e+03 ... 5.0758e-03 2.2950e-03 3.3904e-03]\n",
            " [1.9159e+03 2.5872e-01 1.8987e+03 ... 2.2173e-03 6.4801e-04 1.6041e-03]\n",
            " [3.2811e+03 9.7070e-01 3.2225e+03 ... 9.2519e-03 8.8207e-03 6.7108e-03]\n",
            " [3.1584e+03 3.4976e-01 3.1360e+03 ... 3.8551e-03 2.9828e-03 2.8587e-03]]\n",
            "[[0. 0. 0. 0. 1. 0. 0. 0.]\n",
            " [0. 1. 0. 0. 0. 0. 0. 0.]\n",
            " [0. 0. 0. 1. 0. 0. 0. 0.]\n",
            " [0. 0. 0. 0. 1. 0. 0. 0.]\n",
            " [0. 0. 0. 0. 1. 0. 0. 0.]]\n"
          ],
          "name": "stdout"
        }
      ]
    },
    {
      "metadata": {
        "id": "qtnrUhPP5xr2",
        "colab_type": "text"
      },
      "cell_type": "markdown",
      "source": [
        "# Splitting the dataset into train test split"
      ]
    },
    {
      "metadata": {
        "id": "-gTXP_LK53xK",
        "colab_type": "text"
      },
      "cell_type": "markdown",
      "source": [
        "Training = 80%\n",
        "\n",
        "Test = 20%"
      ]
    },
    {
      "metadata": {
        "id": "NRaUs7Xj5vdA",
        "colab_type": "code",
        "colab": {}
      },
      "cell_type": "code",
      "source": [
        "X_train, X_val, y_train, y_val = train_test_split(final_dataset, final_labels, test_size=0.2, random_state=1)"
      ],
      "execution_count": 0,
      "outputs": []
    },
    {
      "metadata": {
        "id": "e-EX0i9M6QrN",
        "colab_type": "code",
        "colab": {
          "base_uri": "https://localhost:8080/",
          "height": 53
        },
        "outputId": "1597f41d-94d8-4c31-b2e3-5eef194b2c66"
      },
      "cell_type": "code",
      "source": [
        "print(X_train.shape)\n",
        "print(y_train.shape)"
      ],
      "execution_count": 37,
      "outputs": [
        {
          "output_type": "stream",
          "text": [
            "(1440, 254)\n",
            "(1440, 8)\n"
          ],
          "name": "stdout"
        }
      ]
    },
    {
      "metadata": {
        "id": "G9hKWhdj6VD9",
        "colab_type": "code",
        "colab": {
          "base_uri": "https://localhost:8080/",
          "height": 53
        },
        "outputId": "ad36db23-a837-48ab-cc0f-552481949308"
      },
      "cell_type": "code",
      "source": [
        "print(X_val.shape)\n",
        "print(y_val.shape)"
      ],
      "execution_count": 38,
      "outputs": [
        {
          "output_type": "stream",
          "text": [
            "(360, 254)\n",
            "(360, 8)\n"
          ],
          "name": "stdout"
        }
      ]
    },
    {
      "metadata": {
        "id": "BJTxZFtV7jmx",
        "colab_type": "code",
        "colab": {
          "base_uri": "https://localhost:8080/",
          "height": 35
        },
        "outputId": "4eb18cae-e413-48f5-9eef-6bb516e99c2c"
      },
      "cell_type": "code",
      "source": [
        "input_shape = X_train.shape[1]\n",
        "\n",
        "print(input_shape)"
      ],
      "execution_count": 43,
      "outputs": [
        {
          "output_type": "stream",
          "text": [
            "254\n"
          ],
          "name": "stdout"
        }
      ]
    },
    {
      "metadata": {
        "id": "gwG6S_Vn6eRA",
        "colab_type": "text"
      },
      "cell_type": "markdown",
      "source": [
        "# Creation of model"
      ]
    },
    {
      "metadata": {
        "id": "dtEAzXAI6cj3",
        "colab_type": "code",
        "colab": {}
      },
      "cell_type": "code",
      "source": [
        "model = Sequential()\n",
        "\n",
        "model.add(BatchNormalization(input_shape = (254,)))\n",
        "\n",
        "model.add(Dense(units = 8, activation = 'sigmoid'))\n",
        "\n",
        "#model.add(Dense(units = 8, activation = 'sigmoid'))\n",
        "\n",
        "model.compile(optimizer = 'adam', loss = 'categorical_crossentropy', metrics = ['accuracy'])"
      ],
      "execution_count": 0,
      "outputs": []
    },
    {
      "metadata": {
        "id": "rCEu9Tf_7G5N",
        "colab_type": "code",
        "colab": {
          "base_uri": "https://localhost:8080/",
          "height": 215
        },
        "outputId": "f5f8a916-3d61-4cf9-e31d-bbb663cc30aa"
      },
      "cell_type": "code",
      "source": [
        "model.summary()"
      ],
      "execution_count": 58,
      "outputs": [
        {
          "output_type": "stream",
          "text": [
            "_________________________________________________________________\n",
            "Layer (type)                 Output Shape              Param #   \n",
            "=================================================================\n",
            "batch_normalization_3 (Batch (None, 254)               1016      \n",
            "_________________________________________________________________\n",
            "dense_7 (Dense)              (None, 8)                 2040      \n",
            "=================================================================\n",
            "Total params: 3,056\n",
            "Trainable params: 2,548\n",
            "Non-trainable params: 508\n",
            "_________________________________________________________________\n"
          ],
          "name": "stdout"
        }
      ]
    },
    {
      "metadata": {
        "id": "n2q_EFDZ7WvJ",
        "colab_type": "code",
        "colab": {
          "base_uri": "https://localhost:8080/",
          "height": 1133
        },
        "outputId": "5986df3c-5720-44dd-a7d2-6d3a5132c009"
      },
      "cell_type": "code",
      "source": [
        "model.fit(X_train, y_train, validation_data = (X_val, y_val), epochs = 30, batch_size = 64)"
      ],
      "execution_count": 59,
      "outputs": [
        {
          "output_type": "stream",
          "text": [
            "Train on 1440 samples, validate on 360 samples\n",
            "Epoch 1/30\n",
            "1440/1440 [==============================] - 1s 857us/step - loss: 1.8450 - acc: 0.4229 - val_loss: 1.6233 - val_acc: 0.5389\n",
            "Epoch 2/30\n",
            "1440/1440 [==============================] - 1s 409us/step - loss: 1.5267 - acc: 0.5708 - val_loss: 1.4321 - val_acc: 0.6389\n",
            "Epoch 3/30\n",
            "1440/1440 [==============================] - 0s 308us/step - loss: 1.3667 - acc: 0.6556 - val_loss: 1.2995 - val_acc: 0.6972\n",
            "Epoch 4/30\n",
            "1440/1440 [==============================] - 0s 311us/step - loss: 1.2343 - acc: 0.7146 - val_loss: 1.1525 - val_acc: 0.7611\n",
            "Epoch 5/30\n",
            "1440/1440 [==============================] - 1s 398us/step - loss: 1.0707 - acc: 0.7347 - val_loss: 0.9636 - val_acc: 0.7111\n",
            "Epoch 6/30\n",
            "1440/1440 [==============================] - 0s 293us/step - loss: 0.8722 - acc: 0.7583 - val_loss: 0.7560 - val_acc: 0.7861\n",
            "Epoch 7/30\n",
            "1440/1440 [==============================] - 1s 389us/step - loss: 0.6702 - acc: 0.8639 - val_loss: 0.5594 - val_acc: 0.9167\n",
            "Epoch 8/30\n",
            "1440/1440 [==============================] - 1s 399us/step - loss: 0.4969 - acc: 0.9264 - val_loss: 0.4237 - val_acc: 0.9389\n",
            "Epoch 9/30\n",
            "1440/1440 [==============================] - 0s 331us/step - loss: 0.3917 - acc: 0.9437 - val_loss: 0.3364 - val_acc: 0.9472\n",
            "Epoch 10/30\n",
            "1440/1440 [==============================] - 0s 324us/step - loss: 0.3115 - acc: 0.9576 - val_loss: 0.2825 - val_acc: 0.9722\n",
            "Epoch 11/30\n",
            "1440/1440 [==============================] - 1s 387us/step - loss: 0.2676 - acc: 0.9653 - val_loss: 0.2381 - val_acc: 0.9583\n",
            "Epoch 12/30\n",
            "1440/1440 [==============================] - 0s 275us/step - loss: 0.2301 - acc: 0.9694 - val_loss: 0.2102 - val_acc: 0.9722\n",
            "Epoch 13/30\n",
            "1440/1440 [==============================] - 1s 367us/step - loss: 0.1999 - acc: 0.9750 - val_loss: 0.1848 - val_acc: 0.9750\n",
            "Epoch 14/30\n",
            "1440/1440 [==============================] - 1s 387us/step - loss: 0.1828 - acc: 0.9819 - val_loss: 0.1671 - val_acc: 0.9778\n",
            "Epoch 15/30\n",
            "1440/1440 [==============================] - 0s 291us/step - loss: 0.1618 - acc: 0.9785 - val_loss: 0.1479 - val_acc: 0.9750\n",
            "Epoch 16/30\n",
            "1440/1440 [==============================] - 1s 386us/step - loss: 0.1469 - acc: 0.9882 - val_loss: 0.1383 - val_acc: 0.9778\n",
            "Epoch 17/30\n",
            "1440/1440 [==============================] - 1s 392us/step - loss: 0.1357 - acc: 0.9889 - val_loss: 0.1264 - val_acc: 0.9861\n",
            "Epoch 18/30\n",
            "1440/1440 [==============================] - 0s 309us/step - loss: 0.1271 - acc: 0.9889 - val_loss: 0.1181 - val_acc: 0.9778\n",
            "Epoch 19/30\n",
            "1440/1440 [==============================] - 1s 358us/step - loss: 0.1184 - acc: 0.9889 - val_loss: 0.1106 - val_acc: 0.9861\n",
            "Epoch 20/30\n",
            "1440/1440 [==============================] - 1s 381us/step - loss: 0.1150 - acc: 0.9875 - val_loss: 0.1032 - val_acc: 0.9861\n",
            "Epoch 21/30\n",
            "1440/1440 [==============================] - 0s 280us/step - loss: 0.1058 - acc: 0.9896 - val_loss: 0.0972 - val_acc: 0.9861\n",
            "Epoch 22/30\n",
            "1440/1440 [==============================] - 1s 354us/step - loss: 0.1022 - acc: 0.9889 - val_loss: 0.0940 - val_acc: 0.9889\n",
            "Epoch 23/30\n",
            "1440/1440 [==============================] - 1s 399us/step - loss: 0.0907 - acc: 0.9931 - val_loss: 0.0870 - val_acc: 0.9889\n",
            "Epoch 24/30\n",
            "1440/1440 [==============================] - 0s 279us/step - loss: 0.0854 - acc: 0.9965 - val_loss: 0.0819 - val_acc: 0.9889\n",
            "Epoch 25/30\n",
            "1440/1440 [==============================] - 1s 382us/step - loss: 0.0833 - acc: 0.9931 - val_loss: 0.0777 - val_acc: 0.9889\n",
            "Epoch 26/30\n",
            "1440/1440 [==============================] - 1s 401us/step - loss: 0.0804 - acc: 0.9938 - val_loss: 0.0739 - val_acc: 0.9889\n",
            "Epoch 27/30\n",
            "1440/1440 [==============================] - 0s 284us/step - loss: 0.0780 - acc: 0.9924 - val_loss: 0.0723 - val_acc: 0.9861\n",
            "Epoch 28/30\n",
            "1440/1440 [==============================] - 1s 367us/step - loss: 0.0735 - acc: 0.9917 - val_loss: 0.0696 - val_acc: 0.9917\n",
            "Epoch 29/30\n",
            "1440/1440 [==============================] - 1s 399us/step - loss: 0.0682 - acc: 0.9924 - val_loss: 0.0666 - val_acc: 0.9917\n",
            "Epoch 30/30\n",
            "1440/1440 [==============================] - 0s 288us/step - loss: 0.0649 - acc: 0.9958 - val_loss: 0.0636 - val_acc: 0.9889\n"
          ],
          "name": "stdout"
        },
        {
          "output_type": "execute_result",
          "data": {
            "text/plain": [
              "<keras.callbacks.History at 0x7f45cea79940>"
            ]
          },
          "metadata": {
            "tags": []
          },
          "execution_count": 59
        }
      ]
    },
    {
      "metadata": {
        "id": "zvNi1jRlC2jg",
        "colab_type": "code",
        "colab": {}
      },
      "cell_type": "code",
      "source": [
        "model.save('electrical_classification_model.h5')"
      ],
      "execution_count": 0,
      "outputs": []
    },
    {
      "metadata": {
        "id": "4R8zd5PbDFlh",
        "colab_type": "code",
        "colab": {}
      },
      "cell_type": "code",
      "source": [
        "# Install the PyDrive wrapper & import libraries.\n",
        "# This only needs to be done once in a notebook.\n",
        "!pip install -U -q PyDrive\n",
        "from pydrive.auth import GoogleAuth\n",
        "from pydrive.drive import GoogleDrive\n",
        "from google.colab import auth\n",
        "from oauth2client.client import GoogleCredentials"
      ],
      "execution_count": 0,
      "outputs": []
    },
    {
      "metadata": {
        "id": "Qcp1xB2LDJJi",
        "colab_type": "code",
        "colab": {}
      },
      "cell_type": "code",
      "source": [
        "# Authenticate and create the PyDrive client.\n",
        "# This only needs to be done once in a notebook.\n",
        "auth.authenticate_user()\n",
        "gauth = GoogleAuth()\n",
        "gauth.credentials = GoogleCredentials.get_application_default()\n",
        "drive = GoogleDrive(gauth)"
      ],
      "execution_count": 0,
      "outputs": []
    },
    {
      "metadata": {
        "id": "V5JMdaoMDJQ7",
        "colab_type": "code",
        "colab": {
          "base_uri": "https://localhost:8080/",
          "height": 35
        },
        "outputId": "55893199-5581-47d5-c643-cde932fbe929"
      },
      "cell_type": "code",
      "source": [
        "# Create & upload a file.\n",
        "uploaded = drive.CreateFile({'title': 'electrical_classification_model.h5'})\n",
        "uploaded.SetContentFile('electrical_classification_model.h5')\n",
        "uploaded.Upload()\n",
        "print('Uploaded file with ID {}'.format(uploaded.get('id')))"
      ],
      "execution_count": 91,
      "outputs": [
        {
          "output_type": "stream",
          "text": [
            "Uploaded file with ID 1vlM0DdCpMSEAbXzyj5P0ZqSlamOKNCqb\n"
          ],
          "name": "stdout"
        }
      ]
    },
    {
      "metadata": {
        "id": "8nJmC1zBDCFu",
        "colab_type": "text"
      },
      "cell_type": "markdown",
      "source": [
        "# Loading of model"
      ]
    },
    {
      "metadata": {
        "id": "FPydMGe6DEB6",
        "colab_type": "code",
        "colab": {}
      },
      "cell_type": "code",
      "source": [
        "# Install the PyDrive wrapper & import libraries.\n",
        "# This only needs to be done once in a notebook.\n",
        "!pip install -U -q PyDrive\n",
        "from pydrive.auth import GoogleAuth\n",
        "from pydrive.drive import GoogleDrive\n",
        "from google.colab import auth\n",
        "from oauth2client.client import GoogleCredentials"
      ],
      "execution_count": 0,
      "outputs": []
    },
    {
      "metadata": {
        "id": "YjZYMRNuF4iZ",
        "colab_type": "code",
        "colab": {}
      },
      "cell_type": "code",
      "source": [
        "# Authenticate and create the PyDrive client.\n",
        "# This only needs to be done once in a notebook.\n",
        "auth.authenticate_user()\n",
        "gauth = GoogleAuth()\n",
        "gauth.credentials = GoogleCredentials.get_application_default()\n",
        "drive = GoogleDrive(gauth)"
      ],
      "execution_count": 0,
      "outputs": []
    },
    {
      "metadata": {
        "id": "DAEID6-zF4sG",
        "colab_type": "code",
        "colab": {
          "base_uri": "https://localhost:8080/",
          "height": 35
        },
        "outputId": "3c5a59c9-041f-44a3-a0ef-bee891e94d70"
      },
      "cell_type": "code",
      "source": [
        "\n",
        "link = 'https://drive.google.com/open?id=1vlM0DdCpMSEAbXzyj5P0ZqSlamOKNCqb'\n",
        "\n",
        "fluff, id = link.split('=')\n",
        "\n",
        "print (id) # Verify that you have everything after '='\n",
        "\n",
        "downloaded = drive.CreateFile({'id':id}) \n",
        "downloaded.GetContentFile('electrial_classification_model.h5')"
      ],
      "execution_count": 101,
      "outputs": [
        {
          "output_type": "stream",
          "text": [
            "1vlM0DdCpMSEAbXzyj5P0ZqSlamOKNCqb\n"
          ],
          "name": "stdout"
        }
      ]
    },
    {
      "metadata": {
        "id": "0T7iBQxpF-9v",
        "colab_type": "code",
        "colab": {}
      },
      "cell_type": "code",
      "source": [
        "import keras\n",
        "\n",
        "model_load = keras.models.load_model('electrical_classification_model.h5')"
      ],
      "execution_count": 0,
      "outputs": []
    },
    {
      "metadata": {
        "id": "X0AMeOtX-E_N",
        "colab_type": "text"
      },
      "cell_type": "markdown",
      "source": [
        "# Doing Predictions on Test Data"
      ]
    },
    {
      "metadata": {
        "id": "AbIUenSc-_lr",
        "colab_type": "code",
        "colab": {}
      },
      "cell_type": "code",
      "source": [
        "sample_number = 7"
      ],
      "execution_count": 0,
      "outputs": []
    },
    {
      "metadata": {
        "id": "zO0d-7hz8ztx",
        "colab_type": "code",
        "colab": {
          "base_uri": "https://localhost:8080/",
          "height": 53
        },
        "outputId": "c7a732d3-62ef-4ac8-a3c8-f8c6f52dee7d"
      },
      "cell_type": "code",
      "source": [
        "test_data_sample = X_val[sample_number].reshape(1, 254)\n",
        "test_data_actual_label = y_val[sample_number]\n",
        "\n",
        "print(test_data_sample.shape)\n",
        "print(test_data_actual_label)"
      ],
      "execution_count": 98,
      "outputs": [
        {
          "output_type": "stream",
          "text": [
            "(1, 254)\n",
            "[0. 0. 0. 0. 0. 0. 1. 0.]\n"
          ],
          "name": "stdout"
        }
      ]
    },
    {
      "metadata": {
        "id": "QjBWf6wi-i3G",
        "colab_type": "code",
        "colab": {}
      },
      "cell_type": "code",
      "source": [
        "predicted_label = model_load.predict(test_data_sample)"
      ],
      "execution_count": 0,
      "outputs": []
    },
    {
      "metadata": {
        "id": "mYSIGBAA-ZSx",
        "colab_type": "code",
        "colab": {
          "base_uri": "https://localhost:8080/",
          "height": 35
        },
        "outputId": "c4dd5367-3b64-48d0-f030-fce12a4475c6"
      },
      "cell_type": "code",
      "source": [
        "print(np.argmax(predicted_label))"
      ],
      "execution_count": 100,
      "outputs": [
        {
          "output_type": "stream",
          "text": [
            "6\n"
          ],
          "name": "stdout"
        }
      ]
    }
  ]
}